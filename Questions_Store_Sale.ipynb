{
 "cells": [
  {
   "cell_type": "markdown",
   "metadata": {
    "id": "qEd4Of1S3AHd"
   },
   "source": [
    "# Section 1:  NumPy Solutions"
   ]
  },
  {
   "cell_type": "markdown",
   "metadata": {
    "id": "rI5fi9Ec3AHd"
   },
   "source": [
    "### Import the library with alias np"
   ]
  },
  {
   "cell_type": "code",
   "execution_count": 1,
   "metadata": {
    "ExecuteTime": {
     "end_time": "2020-11-18T14:11:52.500937Z",
     "start_time": "2020-11-18T14:11:52.493728Z"
    },
    "id": "JCog5Qpx3AHe"
   },
   "outputs": [],
   "source": [
    "import numpy as np"
   ]
  },
  {
   "cell_type": "markdown",
   "metadata": {
    "id": "Ebj0_8Cl3AHe"
   },
   "source": [
    "####  1. Create an array of  8 eights"
   ]
  },
  {
   "cell_type": "code",
   "execution_count": 14,
   "metadata": {
    "ExecuteTime": {
     "end_time": "2020-11-18T14:11:54.013984Z",
     "start_time": "2020-11-18T14:11:53.998764Z"
    },
    "id": "sVXJbUDn3AHe"
   },
   "outputs": [
    {
     "data": {
      "text/plain": [
       "array([8., 8., 8., 8., 8., 8., 8., 8.])"
      ]
     },
     "execution_count": 14,
     "metadata": {},
     "output_type": "execute_result"
    }
   ],
   "source": [
    "arr = np.ones(8*1)*8\n",
    "arr\n",
    "arr"
   ]
  },
  {
   "cell_type": "markdown",
   "metadata": {
    "id": "LU_4XIer3AHe"
   },
   "source": [
    "#### 2. Create an array of the integers from 10 to 50"
   ]
  },
  {
   "cell_type": "code",
   "execution_count": 30,
   "metadata": {
    "ExecuteTime": {
     "end_time": "2020-11-18T14:12:01.662170Z",
     "start_time": "2020-11-18T14:12:01.657133Z"
    },
    "colab": {
     "base_uri": "https://localhost:8080/"
    },
    "id": "XiQAQhVp3AHe",
    "outputId": "769db61b-352a-40e1-bc57-9f90adfecdd8"
   },
   "outputs": [
    {
     "data": {
      "text/plain": [
       "array([[11, 12, 13, 14, 15, 16, 17, 18, 19, 20],\n",
       "       [21, 22, 23, 24, 25, 26, 27, 28, 29, 30],\n",
       "       [31, 32, 33, 34, 35, 36, 37, 38, 39, 40],\n",
       "       [41, 42, 43, 44, 45, 46, 47, 48, 49, 50]])"
      ]
     },
     "execution_count": 30,
     "metadata": {},
     "output_type": "execute_result"
    }
   ],
   "source": [
    "arr = np.arange(11,51).reshape(4,10)\n",
    "arr"
   ]
  },
  {
   "cell_type": "markdown",
   "metadata": {
    "id": "Ahh4V67O3AHf"
   },
   "source": [
    "#### 3. Create a 3x3 matrix with values ranging from 22 to 30"
   ]
  },
  {
   "cell_type": "code",
   "execution_count": 31,
   "metadata": {
    "ExecuteTime": {
     "end_time": "2020-11-18T14:12:12.695697Z",
     "start_time": "2020-11-18T14:12:12.680091Z"
    },
    "id": "iYsl73bS3AHf"
   },
   "outputs": [
    {
     "data": {
      "text/plain": [
       "array([[22, 23, 24],\n",
       "       [25, 26, 27],\n",
       "       [28, 29, 30]])"
      ]
     },
     "execution_count": 31,
     "metadata": {},
     "output_type": "execute_result"
    }
   ],
   "source": [
    "mat = np.arange(22,31).reshape(3,3)\n",
    "mat"
   ]
  },
  {
   "cell_type": "markdown",
   "metadata": {
    "id": "EfibzwB83AHf"
   },
   "source": [
    "## Indexing\n",
    "Use below Array 'arr' for Questions below. \n",
    "\n",
    "arr = np.arange(26,51).reshape(5,5)\n",
    "\n"
   ]
  },
  {
   "cell_type": "code",
   "execution_count": 32,
   "metadata": {
    "ExecuteTime": {
     "end_time": "2020-11-18T14:12:18.179297Z",
     "start_time": "2020-11-18T14:12:18.166890Z"
    },
    "id": "XzmCCFmk3AHf"
   },
   "outputs": [
    {
     "data": {
      "text/plain": [
       "array([[11, 12, 13, 14, 15, 16, 17, 18, 19, 20],\n",
       "       [21, 22, 23, 24, 25, 26, 27, 28, 29, 30],\n",
       "       [31, 32, 33, 34, 35, 36, 37, 38, 39, 40],\n",
       "       [41, 42, 43, 44, 45, 46, 47, 48, 49, 50]])"
      ]
     },
     "execution_count": 32,
     "metadata": {},
     "output_type": "execute_result"
    }
   ],
   "source": [
    "arr"
   ]
  },
  {
   "cell_type": "markdown",
   "metadata": {
    "collapsed": true,
    "id": "ib0aYLy03AHf"
   },
   "source": [
    "#### 4. Use indexing on arr to get below output\n",
    "\n",
    "       [[37, 38, 39, 40],\n",
    "       [42, 43, 44, 45],\n",
    "       [47, 48, 49, 50]]"
   ]
  },
  {
   "cell_type": "code",
   "execution_count": 33,
   "metadata": {
    "ExecuteTime": {
     "end_time": "2020-11-18T14:12:23.162386Z",
     "start_time": "2020-11-18T14:12:23.157846Z"
    },
    "id": "jaeiYbSG3AHf"
   },
   "outputs": [
    {
     "data": {
      "text/plain": [
       "4"
      ]
     },
     "execution_count": 33,
     "metadata": {},
     "output_type": "execute_result"
    }
   ],
   "source": [
    "arr.itemsize"
   ]
  },
  {
   "cell_type": "markdown",
   "metadata": {
    "collapsed": true,
    "id": "roerkfJq3AHf"
   },
   "source": [
    "#### 5. Use indexing on arr to get below output\n",
    "Output should be 50"
   ]
  },
  {
   "cell_type": "code",
   "execution_count": 37,
   "metadata": {
    "ExecuteTime": {
     "end_time": "2020-11-18T14:12:33.245858Z",
     "start_time": "2020-11-18T14:12:33.228607Z"
    },
    "id": "TPOj_Ap33AHg"
   },
   "outputs": [
    {
     "data": {
      "text/plain": [
       "array([[0]])"
      ]
     },
     "execution_count": 37,
     "metadata": {},
     "output_type": "execute_result"
    }
   ],
   "source": [
    "np.indices([1])"
   ]
  },
  {
   "cell_type": "markdown",
   "metadata": {
    "collapsed": true,
    "id": "eQCb3G2W3AHg"
   },
   "source": [
    "#### 6. Use indexing on arr to get below output\n",
    "      [[27],\n",
    "       [32],\n",
    "       [37]]"
   ]
  },
  {
   "cell_type": "code",
   "execution_count": null,
   "metadata": {
    "ExecuteTime": {
     "end_time": "2020-11-18T14:12:34.673380Z",
     "start_time": "2020-11-18T14:12:34.661768Z"
    },
    "id": "FKNH1ivg3AHg"
   },
   "outputs": [],
   "source": []
  },
  {
   "cell_type": "markdown",
   "metadata": {
    "collapsed": true,
    "id": "J5I0tHl13AHg"
   },
   "source": [
    "#### 7. Use indexing on arr to get below output\n",
    "      [46, 47, 48, 49, 50]"
   ]
  },
  {
   "cell_type": "code",
   "execution_count": null,
   "metadata": {
    "ExecuteTime": {
     "end_time": "2020-11-18T14:12:37.835049Z",
     "start_time": "2020-11-18T14:12:37.819006Z"
    },
    "id": "K_ds-9O83AHg"
   },
   "outputs": [],
   "source": []
  },
  {
   "cell_type": "markdown",
   "metadata": {
    "collapsed": true,
    "id": "N7If4Qm13AHg"
   },
   "source": [
    "#### 8. Use indexing on arr to get below output\n",
    "     [[41, 42, 43, 44, 45],\n",
    "       [46, 47, 48, 49, 50]]"
   ]
  },
  {
   "cell_type": "code",
   "execution_count": null,
   "metadata": {
    "ExecuteTime": {
     "end_time": "2020-11-18T14:12:46.339838Z",
     "start_time": "2020-11-18T14:12:46.326961Z"
    },
    "id": "_ODDWmMI3AHg"
   },
   "outputs": [],
   "source": []
  },
  {
   "cell_type": "markdown",
   "metadata": {
    "id": "YAxzLy-33AHg"
   },
   "source": [
    "### NumPy  Stats Functions\n",
    "\n",
    "Use below given array 'arr'"
   ]
  },
  {
   "cell_type": "code",
   "execution_count": null,
   "metadata": {
    "ExecuteTime": {
     "end_time": "2020-11-18T14:12:51.416329Z",
     "start_time": "2020-11-18T14:12:51.398141Z"
    },
    "id": "rudcV8St3AHg"
   },
   "outputs": [],
   "source": []
  },
  {
   "cell_type": "markdown",
   "metadata": {
    "id": "ySZR5Kr23AHg"
   },
   "source": [
    "#### 9. Find the sum of all the values in given array 'arr'"
   ]
  },
  {
   "cell_type": "code",
   "execution_count": null,
   "metadata": {
    "ExecuteTime": {
     "end_time": "2020-11-18T14:12:55.596990Z",
     "start_time": "2020-11-18T14:12:55.582257Z"
    },
    "id": "whUaKcc03AHg"
   },
   "outputs": [],
   "source": []
  },
  {
   "cell_type": "markdown",
   "metadata": {
    "id": "_JyZahWt3AHg"
   },
   "source": [
    "#### 10. Find the standard deviation of the values in given array 'arr'"
   ]
  },
  {
   "cell_type": "code",
   "execution_count": null,
   "metadata": {
    "ExecuteTime": {
     "end_time": "2020-11-18T14:12:57.293052Z",
     "start_time": "2020-11-18T14:12:57.283021Z"
    },
    "id": "rd4x_3yk3AHg"
   },
   "outputs": [],
   "source": []
  },
  {
   "cell_type": "markdown",
   "metadata": {
    "id": "NdYwSQRO3AHg"
   },
   "source": [
    "#### 11.  Find the mean of all the values in given array 'arr'"
   ]
  },
  {
   "cell_type": "code",
   "execution_count": null,
   "metadata": {
    "ExecuteTime": {
     "end_time": "2020-11-18T14:12:58.639514Z",
     "start_time": "2020-11-18T14:12:58.627432Z"
    },
    "id": "AuVb4eyn3AHg"
   },
   "outputs": [],
   "source": []
  },
  {
   "cell_type": "markdown",
   "metadata": {
    "id": "Kz8Skvet3AHh"
   },
   "source": [
    "# Section 2: Pandas Solutions"
   ]
  },
  {
   "cell_type": "markdown",
   "metadata": {
    "ExecuteTime": {
     "end_time": "2020-03-30T16:30:52.096627Z",
     "start_time": "2020-03-30T16:30:52.091679Z"
    },
    "id": "2odOFhTE3AHh"
   },
   "source": [
    "#### Import pandas library  with alias pd"
   ]
  },
  {
   "cell_type": "code",
   "execution_count": 2,
   "metadata": {
    "ExecuteTime": {
     "end_time": "2020-11-18T14:13:37.910604Z",
     "start_time": "2020-11-18T14:13:37.905737Z"
    },
    "id": "8m-2Cl5T3AHh"
   },
   "outputs": [],
   "source": [
    "import pandas as pd"
   ]
  },
  {
   "cell_type": "markdown",
   "metadata": {
    "id": "2HdntLZf3AHh"
   },
   "source": [
    "#### Read the given csv file"
   ]
  },
  {
   "cell_type": "code",
   "execution_count": 3,
   "metadata": {
    "ExecuteTime": {
     "end_time": "2020-11-18T14:13:38.270998Z",
     "start_time": "2020-11-18T14:13:38.258304Z"
    },
    "id": "ut8q2tUc3AHh"
   },
   "outputs": [],
   "source": [
    "df = pd.read_csv(\"sales.csv\")"
   ]
  },
  {
   "cell_type": "markdown",
   "metadata": {
    "id": "mnYh_olF3AHh"
   },
   "source": [
    "### 1. What are the unique values in  the column \"Parking\"?"
   ]
  },
  {
   "cell_type": "code",
   "execution_count": 4,
   "metadata": {
    "ExecuteTime": {
     "end_time": "2020-11-18T14:13:38.709648Z",
     "start_time": "2020-11-18T14:13:38.696162Z"
    },
    "id": "IeGAaODN3AHh"
   },
   "outputs": [
    {
     "data": {
      "text/plain": [
       "array(['Open', 'Not Provided', 'Covered', 'No Parking'], dtype=object)"
      ]
     },
     "execution_count": 4,
     "metadata": {},
     "output_type": "execute_result"
    }
   ],
   "source": [
    "df.columns\n",
    "df.Parking.unique()"
   ]
  },
  {
   "cell_type": "markdown",
   "metadata": {
    "id": "tTDuFUS33AHh"
   },
   "source": [
    "### 2. What is the mean store area of the given data? "
   ]
  },
  {
   "cell_type": "code",
   "execution_count": 5,
   "metadata": {
    "ExecuteTime": {
     "end_time": "2020-11-18T14:13:40.025724Z",
     "start_time": "2020-11-18T14:13:40.012289Z"
    },
    "id": "MnXIW1Mn3AHh"
   },
   "outputs": [
    {
     "data": {
      "text/plain": [
       "1511.862554112554"
      ]
     },
     "execution_count": 5,
     "metadata": {},
     "output_type": "execute_result"
    }
   ],
   "source": [
    "df.columns\n",
    "df.Store_Area.mean()"
   ]
  },
  {
   "cell_type": "markdown",
   "metadata": {
    "id": "ykPHo_RI3AHh"
   },
   "source": [
    "### 3.What are the different columns available in the dataset?"
   ]
  },
  {
   "cell_type": "code",
   "execution_count": 6,
   "metadata": {
    "ExecuteTime": {
     "end_time": "2020-11-18T14:13:16.743995Z",
     "start_time": "2020-11-18T14:13:16.732919Z"
    },
    "id": "NyNmIDWN3AHh"
   },
   "outputs": [
    {
     "data": {
      "text/plain": [
       "Index(['Observation', 'Dist_Taxi', 'Dist_Market', 'Dist_Metro', 'Store_Area',\n",
       "       'Items_Available', 'Parking', 'Coupon_Category', 'Daily_Customer_Count',\n",
       "       'Store_Sales'],\n",
       "      dtype='object')"
      ]
     },
     "execution_count": 6,
     "metadata": {},
     "output_type": "execute_result"
    }
   ],
   "source": [
    "df.dtypes\n",
    "df.columns\n"
   ]
  },
  {
   "cell_type": "markdown",
   "metadata": {
    "id": "SR1DZqUX3AHh"
   },
   "source": [
    "### 4. Create a new series (series1) with only the values of third row"
   ]
  },
  {
   "cell_type": "code",
   "execution_count": 7,
   "metadata": {
    "ExecuteTime": {
     "end_time": "2020-11-18T14:16:46.680926Z",
     "start_time": "2020-11-18T14:16:46.671773Z"
    },
    "id": "p2wX9Hbo3AHh"
   },
   "outputs": [
    {
     "data": {
      "text/plain": [
       "Observation                        3\n",
       "Dist_Taxi                    11001.0\n",
       "Dist_Market                  14399.0\n",
       "Dist_Metro                   16991.0\n",
       "Store_Area                    1340.0\n",
       "Items_Available               1609.0\n",
       "Parking                 Not Provided\n",
       "Coupon_Category                CAT A\n",
       "Daily_Customer_Count             720\n",
       "Store_Sales                    54010\n",
       "Name: 2, dtype: object"
      ]
     },
     "execution_count": 7,
     "metadata": {},
     "output_type": "execute_result"
    }
   ],
   "source": [
    "ser = pd.Series(df.iloc[2,:])\n",
    "ser"
   ]
  },
  {
   "cell_type": "markdown",
   "metadata": {
    "id": "Mggm22w03AHh"
   },
   "source": [
    "### 5. Create a new dataframe(df_short which contain first 5 rows and two columns(\"Coupon_Category\" and \"Store_Sales\")"
   ]
  },
  {
   "cell_type": "code",
   "execution_count": 40,
   "metadata": {
    "ExecuteTime": {
     "end_time": "2020-11-18T14:17:51.647071Z",
     "start_time": "2020-11-18T14:17:51.622431Z"
    },
    "id": "P75B5Mdk3AHh"
   },
   "outputs": [
    {
     "data": {
      "text/html": [
       "<div>\n",
       "<style scoped>\n",
       "    .dataframe tbody tr th:only-of-type {\n",
       "        vertical-align: middle;\n",
       "    }\n",
       "\n",
       "    .dataframe tbody tr th {\n",
       "        vertical-align: top;\n",
       "    }\n",
       "\n",
       "    .dataframe thead th {\n",
       "        text-align: right;\n",
       "    }\n",
       "</style>\n",
       "<table border=\"1\" class=\"dataframe\">\n",
       "  <thead>\n",
       "    <tr style=\"text-align: right;\">\n",
       "      <th></th>\n",
       "      <th>Coupon_Category</th>\n",
       "      <th>Store_Sales</th>\n",
       "    </tr>\n",
       "  </thead>\n",
       "  <tbody>\n",
       "    <tr>\n",
       "      <th>0</th>\n",
       "      <td>CAT B</td>\n",
       "      <td>66490</td>\n",
       "    </tr>\n",
       "    <tr>\n",
       "      <th>1</th>\n",
       "      <td>CAT B</td>\n",
       "      <td>39820</td>\n",
       "    </tr>\n",
       "    <tr>\n",
       "      <th>2</th>\n",
       "      <td>CAT A</td>\n",
       "      <td>54010</td>\n",
       "    </tr>\n",
       "    <tr>\n",
       "      <th>3</th>\n",
       "      <td>CAT B</td>\n",
       "      <td>53730</td>\n",
       "    </tr>\n",
       "    <tr>\n",
       "      <th>4</th>\n",
       "      <td>CAT B</td>\n",
       "      <td>46620</td>\n",
       "    </tr>\n",
       "  </tbody>\n",
       "</table>\n",
       "</div>"
      ],
      "text/plain": [
       "  Coupon_Category  Store_Sales\n",
       "0           CAT B        66490\n",
       "1           CAT B        39820\n",
       "2           CAT A        54010\n",
       "3           CAT B        53730\n",
       "4           CAT B        46620"
      ]
     },
     "execution_count": 40,
     "metadata": {},
     "output_type": "execute_result"
    }
   ],
   "source": [
    "df_short = pd.DataFrame(df.loc[0:4,['Coupon_Category','Store_Sales']])\n",
    "df_short"
   ]
  },
  {
   "cell_type": "code",
   "execution_count": null,
   "metadata": {
    "ExecuteTime": {
     "end_time": "2020-11-18T14:18:32.167260Z",
     "start_time": "2020-11-18T14:18:32.151113Z"
    },
    "id": "9HP0WYd63AHh"
   },
   "outputs": [],
   "source": []
  },
  {
   "cell_type": "markdown",
   "metadata": {
    "id": "-AY8oe_e3AHh"
   },
   "source": [
    "### 6. In dataframe df_short, replace the index with [\"First Row\",\"Second Row\",\"Third Row\", \"Forth Row\", \"Fifth Row\"]"
   ]
  },
  {
   "cell_type": "code",
   "execution_count": 47,
   "metadata": {
    "ExecuteTime": {
     "end_time": "2020-11-18T14:21:49.755293Z",
     "start_time": "2020-11-18T14:21:49.720390Z"
    },
    "id": "KDf-FDvw3AHh"
   },
   "outputs": [
    {
     "ename": "KeyError",
     "evalue": "\"None of ['First'] are in the columns\"",
     "output_type": "error",
     "traceback": [
      "\u001b[1;31m---------------------------------------------------------------------------\u001b[0m",
      "\u001b[1;31mKeyError\u001b[0m                                  Traceback (most recent call last)",
      "\u001b[1;32m~\\AppData\\Local\\Temp/ipykernel_10332/1488713103.py\u001b[0m in \u001b[0;36m<module>\u001b[1;34m\u001b[0m\n\u001b[1;32m----> 1\u001b[1;33m \u001b[0mdf_short\u001b[0m\u001b[1;33m.\u001b[0m\u001b[0mset_index\u001b[0m\u001b[1;33m(\u001b[0m\u001b[1;34m'First'\u001b[0m\u001b[1;33m,\u001b[0m\u001b[0minplace\u001b[0m\u001b[1;33m=\u001b[0m\u001b[1;32mTrue\u001b[0m\u001b[1;33m)\u001b[0m\u001b[1;33m\u001b[0m\u001b[1;33m\u001b[0m\u001b[0m\n\u001b[0m\u001b[0;32m      2\u001b[0m \u001b[0mdf_short\u001b[0m\u001b[1;33m.\u001b[0m\u001b[0mreset_index\u001b[0m\u001b[1;33m(\u001b[0m\u001b[0minplace\u001b[0m\u001b[1;33m=\u001b[0m\u001b[1;32mTrue\u001b[0m\u001b[1;33m)\u001b[0m\u001b[1;33m\u001b[0m\u001b[1;33m\u001b[0m\u001b[0m\n",
      "\u001b[1;32m~\\anaconda3\\lib\\site-packages\\pandas\\util\\_decorators.py\u001b[0m in \u001b[0;36mwrapper\u001b[1;34m(*args, **kwargs)\u001b[0m\n\u001b[0;32m    309\u001b[0m                     \u001b[0mstacklevel\u001b[0m\u001b[1;33m=\u001b[0m\u001b[0mstacklevel\u001b[0m\u001b[1;33m,\u001b[0m\u001b[1;33m\u001b[0m\u001b[1;33m\u001b[0m\u001b[0m\n\u001b[0;32m    310\u001b[0m                 )\n\u001b[1;32m--> 311\u001b[1;33m             \u001b[1;32mreturn\u001b[0m \u001b[0mfunc\u001b[0m\u001b[1;33m(\u001b[0m\u001b[1;33m*\u001b[0m\u001b[0margs\u001b[0m\u001b[1;33m,\u001b[0m \u001b[1;33m**\u001b[0m\u001b[0mkwargs\u001b[0m\u001b[1;33m)\u001b[0m\u001b[1;33m\u001b[0m\u001b[1;33m\u001b[0m\u001b[0m\n\u001b[0m\u001b[0;32m    312\u001b[0m \u001b[1;33m\u001b[0m\u001b[0m\n\u001b[0;32m    313\u001b[0m         \u001b[1;32mreturn\u001b[0m \u001b[0mwrapper\u001b[0m\u001b[1;33m\u001b[0m\u001b[1;33m\u001b[0m\u001b[0m\n",
      "\u001b[1;32m~\\anaconda3\\lib\\site-packages\\pandas\\core\\frame.py\u001b[0m in \u001b[0;36mset_index\u001b[1;34m(self, keys, drop, append, inplace, verify_integrity)\u001b[0m\n\u001b[0;32m   5449\u001b[0m \u001b[1;33m\u001b[0m\u001b[0m\n\u001b[0;32m   5450\u001b[0m         \u001b[1;32mif\u001b[0m \u001b[0mmissing\u001b[0m\u001b[1;33m:\u001b[0m\u001b[1;33m\u001b[0m\u001b[1;33m\u001b[0m\u001b[0m\n\u001b[1;32m-> 5451\u001b[1;33m             \u001b[1;32mraise\u001b[0m \u001b[0mKeyError\u001b[0m\u001b[1;33m(\u001b[0m\u001b[1;34mf\"None of {missing} are in the columns\"\u001b[0m\u001b[1;33m)\u001b[0m\u001b[1;33m\u001b[0m\u001b[1;33m\u001b[0m\u001b[0m\n\u001b[0m\u001b[0;32m   5452\u001b[0m \u001b[1;33m\u001b[0m\u001b[0m\n\u001b[0;32m   5453\u001b[0m         \u001b[1;32mif\u001b[0m \u001b[0minplace\u001b[0m\u001b[1;33m:\u001b[0m\u001b[1;33m\u001b[0m\u001b[1;33m\u001b[0m\u001b[0m\n",
      "\u001b[1;31mKeyError\u001b[0m: \"None of ['First'] are in the columns\""
     ]
    }
   ],
   "source": [
    "df_short.set_index('First',inplace=True)\n",
    "df_short.reset_index(inplace=True)"
   ]
  },
  {
   "cell_type": "markdown",
   "metadata": {
    "id": "b-Sc0v5c3AHh"
   },
   "source": [
    "### 7. Create a dataframe df2 fulfilling the given conditions - Dist_Metro>18000 and Parking= Open"
   ]
  },
  {
   "cell_type": "code",
   "execution_count": 56,
   "metadata": {
    "ExecuteTime": {
     "end_time": "2020-11-18T14:23:38.115765Z",
     "start_time": "2020-11-18T14:23:38.077015Z"
    },
    "id": "A3n8LKv83AHh"
   },
   "outputs": [
    {
     "data": {
      "text/html": [
       "<div>\n",
       "<style scoped>\n",
       "    .dataframe tbody tr th:only-of-type {\n",
       "        vertical-align: middle;\n",
       "    }\n",
       "\n",
       "    .dataframe tbody tr th {\n",
       "        vertical-align: top;\n",
       "    }\n",
       "\n",
       "    .dataframe thead th {\n",
       "        text-align: right;\n",
       "    }\n",
       "</style>\n",
       "<table border=\"1\" class=\"dataframe\">\n",
       "  <thead>\n",
       "    <tr style=\"text-align: right;\">\n",
       "      <th></th>\n",
       "      <th>Observation</th>\n",
       "      <th>Dist_Taxi</th>\n",
       "      <th>Dist_Market</th>\n",
       "      <th>Dist_Metro</th>\n",
       "      <th>Store_Area</th>\n",
       "      <th>Items_Available</th>\n",
       "      <th>Parking</th>\n",
       "      <th>Coupon_Category</th>\n",
       "      <th>Daily_Customer_Count</th>\n",
       "      <th>Store_Sales</th>\n",
       "    </tr>\n",
       "  </thead>\n",
       "  <tbody>\n",
       "    <tr>\n",
       "      <th>0</th>\n",
       "      <td>NaN</td>\n",
       "      <td>NaN</td>\n",
       "      <td>NaN</td>\n",
       "      <td>NaN</td>\n",
       "      <td>NaN</td>\n",
       "      <td>NaN</td>\n",
       "      <td>NaN</td>\n",
       "      <td>NaN</td>\n",
       "      <td>NaN</td>\n",
       "      <td>NaN</td>\n",
       "    </tr>\n",
       "    <tr>\n",
       "      <th>1</th>\n",
       "      <td>NaN</td>\n",
       "      <td>NaN</td>\n",
       "      <td>NaN</td>\n",
       "      <td>NaN</td>\n",
       "      <td>NaN</td>\n",
       "      <td>NaN</td>\n",
       "      <td>NaN</td>\n",
       "      <td>NaN</td>\n",
       "      <td>NaN</td>\n",
       "      <td>NaN</td>\n",
       "    </tr>\n",
       "    <tr>\n",
       "      <th>2</th>\n",
       "      <td>NaN</td>\n",
       "      <td>NaN</td>\n",
       "      <td>NaN</td>\n",
       "      <td>NaN</td>\n",
       "      <td>NaN</td>\n",
       "      <td>NaN</td>\n",
       "      <td>NaN</td>\n",
       "      <td>NaN</td>\n",
       "      <td>NaN</td>\n",
       "      <td>NaN</td>\n",
       "    </tr>\n",
       "    <tr>\n",
       "      <th>3</th>\n",
       "      <td>NaN</td>\n",
       "      <td>NaN</td>\n",
       "      <td>NaN</td>\n",
       "      <td>NaN</td>\n",
       "      <td>NaN</td>\n",
       "      <td>NaN</td>\n",
       "      <td>NaN</td>\n",
       "      <td>NaN</td>\n",
       "      <td>NaN</td>\n",
       "      <td>NaN</td>\n",
       "    </tr>\n",
       "    <tr>\n",
       "      <th>4</th>\n",
       "      <td>NaN</td>\n",
       "      <td>NaN</td>\n",
       "      <td>NaN</td>\n",
       "      <td>NaN</td>\n",
       "      <td>NaN</td>\n",
       "      <td>NaN</td>\n",
       "      <td>NaN</td>\n",
       "      <td>NaN</td>\n",
       "      <td>NaN</td>\n",
       "      <td>NaN</td>\n",
       "    </tr>\n",
       "    <tr>\n",
       "      <th>...</th>\n",
       "      <td>...</td>\n",
       "      <td>...</td>\n",
       "      <td>...</td>\n",
       "      <td>...</td>\n",
       "      <td>...</td>\n",
       "      <td>...</td>\n",
       "      <td>...</td>\n",
       "      <td>...</td>\n",
       "      <td>...</td>\n",
       "      <td>...</td>\n",
       "    </tr>\n",
       "    <tr>\n",
       "      <th>927</th>\n",
       "      <td>NaN</td>\n",
       "      <td>NaN</td>\n",
       "      <td>NaN</td>\n",
       "      <td>NaN</td>\n",
       "      <td>NaN</td>\n",
       "      <td>NaN</td>\n",
       "      <td>NaN</td>\n",
       "      <td>NaN</td>\n",
       "      <td>NaN</td>\n",
       "      <td>NaN</td>\n",
       "    </tr>\n",
       "    <tr>\n",
       "      <th>928</th>\n",
       "      <td>NaN</td>\n",
       "      <td>NaN</td>\n",
       "      <td>NaN</td>\n",
       "      <td>NaN</td>\n",
       "      <td>NaN</td>\n",
       "      <td>NaN</td>\n",
       "      <td>NaN</td>\n",
       "      <td>NaN</td>\n",
       "      <td>NaN</td>\n",
       "      <td>NaN</td>\n",
       "    </tr>\n",
       "    <tr>\n",
       "      <th>929</th>\n",
       "      <td>NaN</td>\n",
       "      <td>NaN</td>\n",
       "      <td>NaN</td>\n",
       "      <td>NaN</td>\n",
       "      <td>NaN</td>\n",
       "      <td>NaN</td>\n",
       "      <td>NaN</td>\n",
       "      <td>NaN</td>\n",
       "      <td>NaN</td>\n",
       "      <td>NaN</td>\n",
       "    </tr>\n",
       "    <tr>\n",
       "      <th>930</th>\n",
       "      <td>931.0</td>\n",
       "      <td>15082.0</td>\n",
       "      <td>14700.0</td>\n",
       "      <td>19617.0</td>\n",
       "      <td>1299.0</td>\n",
       "      <td>1560.0</td>\n",
       "      <td>Open</td>\n",
       "      <td>CAT B</td>\n",
       "      <td>770.0</td>\n",
       "      <td>96610.0</td>\n",
       "    </tr>\n",
       "    <tr>\n",
       "      <th>931</th>\n",
       "      <td>NaN</td>\n",
       "      <td>NaN</td>\n",
       "      <td>NaN</td>\n",
       "      <td>NaN</td>\n",
       "      <td>NaN</td>\n",
       "      <td>NaN</td>\n",
       "      <td>NaN</td>\n",
       "      <td>NaN</td>\n",
       "      <td>NaN</td>\n",
       "      <td>NaN</td>\n",
       "    </tr>\n",
       "  </tbody>\n",
       "</table>\n",
       "<p>932 rows × 10 columns</p>\n",
       "</div>"
      ],
      "text/plain": [
       "     Observation  Dist_Taxi  Dist_Market  Dist_Metro  Store_Area  \\\n",
       "0            NaN        NaN          NaN         NaN         NaN   \n",
       "1            NaN        NaN          NaN         NaN         NaN   \n",
       "2            NaN        NaN          NaN         NaN         NaN   \n",
       "3            NaN        NaN          NaN         NaN         NaN   \n",
       "4            NaN        NaN          NaN         NaN         NaN   \n",
       "..           ...        ...          ...         ...         ...   \n",
       "927          NaN        NaN          NaN         NaN         NaN   \n",
       "928          NaN        NaN          NaN         NaN         NaN   \n",
       "929          NaN        NaN          NaN         NaN         NaN   \n",
       "930        931.0    15082.0      14700.0     19617.0      1299.0   \n",
       "931          NaN        NaN          NaN         NaN         NaN   \n",
       "\n",
       "     Items_Available Parking Coupon_Category  Daily_Customer_Count  \\\n",
       "0                NaN     NaN             NaN                   NaN   \n",
       "1                NaN     NaN             NaN                   NaN   \n",
       "2                NaN     NaN             NaN                   NaN   \n",
       "3                NaN     NaN             NaN                   NaN   \n",
       "4                NaN     NaN             NaN                   NaN   \n",
       "..               ...     ...             ...                   ...   \n",
       "927              NaN     NaN             NaN                   NaN   \n",
       "928              NaN     NaN             NaN                   NaN   \n",
       "929              NaN     NaN             NaN                   NaN   \n",
       "930           1560.0    Open           CAT B                 770.0   \n",
       "931              NaN     NaN             NaN                   NaN   \n",
       "\n",
       "     Store_Sales  \n",
       "0            NaN  \n",
       "1            NaN  \n",
       "2            NaN  \n",
       "3            NaN  \n",
       "4            NaN  \n",
       "..           ...  \n",
       "927          NaN  \n",
       "928          NaN  \n",
       "929          NaN  \n",
       "930      96610.0  \n",
       "931          NaN  \n",
       "\n",
       "[932 rows x 10 columns]"
      ]
     },
     "execution_count": 56,
     "metadata": {},
     "output_type": "execute_result"
    }
   ],
   "source": [
    "filter_1 = df['Dist_Metro'] > 18000\n",
    "filter_2 = df['Parking'] == 'Open'\n",
    "df2 = df.where(filter_1 & filter_2)\n",
    "df2"
   ]
  },
  {
   "cell_type": "markdown",
   "metadata": {
    "id": "2y-pn0Sf3AHh"
   },
   "source": [
    "### 8.What is the minimum store sales and the standard Deviation of store sales."
   ]
  },
  {
   "cell_type": "code",
   "execution_count": 58,
   "metadata": {
    "ExecuteTime": {
     "end_time": "2020-11-18T14:24:50.994586Z",
     "start_time": "2020-11-18T14:24:50.976291Z"
    },
    "id": "XlFB1jHi3AHh"
   },
   "outputs": [
    {
     "data": {
      "text/plain": [
       "50253.6390220453"
      ]
     },
     "execution_count": 58,
     "metadata": {},
     "output_type": "execute_result"
    }
   ],
   "source": [
    "df['Store_Sales'].min()\n",
    "df['Store_Sales'].std()"
   ]
  },
  {
   "cell_type": "markdown",
   "metadata": {
    "id": "AL8SBcCO3AHh"
   },
   "source": [
    "### 9. Group the dataset with respect to the variable 'Coupon_Category' using aggregation function mean()"
   ]
  },
  {
   "cell_type": "code",
   "execution_count": 67,
   "metadata": {
    "ExecuteTime": {
     "end_time": "2020-11-18T14:25:13.055098Z",
     "start_time": "2020-11-18T14:25:13.022218Z"
    },
    "id": "OVzSHvo73AHh"
   },
   "outputs": [
    {
     "data": {
      "text/plain": [
       "0    CAT B\n",
       "dtype: object"
      ]
     },
     "execution_count": 67,
     "metadata": {},
     "output_type": "execute_result"
    }
   ],
   "source": [
    "df['Coupon_Category'].mode()"
   ]
  },
  {
   "cell_type": "markdown",
   "metadata": {
    "id": "4jwneK3X3AHh"
   },
   "source": [
    "### 10. Drop the variable 'Parking' from the data."
   ]
  },
  {
   "cell_type": "code",
   "execution_count": 72,
   "metadata": {
    "ExecuteTime": {
     "end_time": "2020-11-18T14:33:19.645834Z",
     "start_time": "2020-11-18T14:33:19.625905Z"
    },
    "id": "0jCWjicT3AHh"
   },
   "outputs": [
    {
     "data": {
      "text/plain": [
       "Index(['Observation', 'Dist_Taxi', 'Dist_Market', 'Dist_Metro', 'Store_Area',\n",
       "       'Items_Available', 'Parking', 'Coupon_Category', 'Daily_Customer_Count',\n",
       "       'Store_Sales'],\n",
       "      dtype='object')"
      ]
     },
     "execution_count": 72,
     "metadata": {},
     "output_type": "execute_result"
    }
   ],
   "source": [
    "# df.drop(df['Parking'],axis=0,inplace=True)\n",
    "df.columns"
   ]
  },
  {
   "cell_type": "markdown",
   "metadata": {
    "id": "7N0BaB-L3AHh"
   },
   "source": [
    "### 11. Export the Q10 dataframe without the 'Parking' column into a csv file."
   ]
  },
  {
   "cell_type": "code",
   "execution_count": 73,
   "metadata": {
    "id": "soaVDcUu3AHh"
   },
   "outputs": [],
   "source": [
    "df.to_csv('good.csv')"
   ]
  },
  {
   "cell_type": "markdown",
   "metadata": {
    "id": "Dr3kTYW43AHi"
   },
   "source": [
    "# Question on some additional functions"
   ]
  },
  {
   "cell_type": "markdown",
   "metadata": {
    "id": "Uemi19jk3AHi"
   },
   "source": [
    "###  Display the first 10 entries of the dataset.  (Hint-use function head())"
   ]
  },
  {
   "cell_type": "code",
   "execution_count": 64,
   "metadata": {
    "ExecuteTime": {
     "end_time": "2020-11-18T14:36:32.155436Z",
     "start_time": "2020-11-18T14:36:32.114317Z"
    },
    "id": "S1dF6VLM3AHi"
   },
   "outputs": [
    {
     "data": {
      "text/html": [
       "<div>\n",
       "<style scoped>\n",
       "    .dataframe tbody tr th:only-of-type {\n",
       "        vertical-align: middle;\n",
       "    }\n",
       "\n",
       "    .dataframe tbody tr th {\n",
       "        vertical-align: top;\n",
       "    }\n",
       "\n",
       "    .dataframe thead th {\n",
       "        text-align: right;\n",
       "    }\n",
       "</style>\n",
       "<table border=\"1\" class=\"dataframe\">\n",
       "  <thead>\n",
       "    <tr style=\"text-align: right;\">\n",
       "      <th></th>\n",
       "      <th>Observation</th>\n",
       "      <th>Dist_Taxi</th>\n",
       "      <th>Dist_Market</th>\n",
       "      <th>Dist_Metro</th>\n",
       "      <th>Store_Area</th>\n",
       "      <th>Items_Available</th>\n",
       "      <th>Parking</th>\n",
       "      <th>Coupon_Category</th>\n",
       "      <th>Daily_Customer_Count</th>\n",
       "      <th>Store_Sales</th>\n",
       "    </tr>\n",
       "  </thead>\n",
       "  <tbody>\n",
       "    <tr>\n",
       "      <th>0</th>\n",
       "      <td>1</td>\n",
       "      <td>9796.0</td>\n",
       "      <td>5250.0</td>\n",
       "      <td>10703.0</td>\n",
       "      <td>1659.0</td>\n",
       "      <td>1961.0</td>\n",
       "      <td>Open</td>\n",
       "      <td>CAT B</td>\n",
       "      <td>530</td>\n",
       "      <td>66490</td>\n",
       "    </tr>\n",
       "    <tr>\n",
       "      <th>1</th>\n",
       "      <td>2</td>\n",
       "      <td>8294.0</td>\n",
       "      <td>8186.0</td>\n",
       "      <td>12694.0</td>\n",
       "      <td>1461.0</td>\n",
       "      <td>1752.0</td>\n",
       "      <td>Not Provided</td>\n",
       "      <td>CAT B</td>\n",
       "      <td>210</td>\n",
       "      <td>39820</td>\n",
       "    </tr>\n",
       "    <tr>\n",
       "      <th>2</th>\n",
       "      <td>3</td>\n",
       "      <td>11001.0</td>\n",
       "      <td>14399.0</td>\n",
       "      <td>16991.0</td>\n",
       "      <td>1340.0</td>\n",
       "      <td>1609.0</td>\n",
       "      <td>Not Provided</td>\n",
       "      <td>CAT A</td>\n",
       "      <td>720</td>\n",
       "      <td>54010</td>\n",
       "    </tr>\n",
       "    <tr>\n",
       "      <th>3</th>\n",
       "      <td>4</td>\n",
       "      <td>8301.0</td>\n",
       "      <td>11188.0</td>\n",
       "      <td>12289.0</td>\n",
       "      <td>1451.0</td>\n",
       "      <td>1748.0</td>\n",
       "      <td>Covered</td>\n",
       "      <td>CAT B</td>\n",
       "      <td>620</td>\n",
       "      <td>53730</td>\n",
       "    </tr>\n",
       "    <tr>\n",
       "      <th>4</th>\n",
       "      <td>5</td>\n",
       "      <td>10510.0</td>\n",
       "      <td>12629.0</td>\n",
       "      <td>13921.0</td>\n",
       "      <td>1770.0</td>\n",
       "      <td>2111.0</td>\n",
       "      <td>Not Provided</td>\n",
       "      <td>CAT B</td>\n",
       "      <td>450</td>\n",
       "      <td>46620</td>\n",
       "    </tr>\n",
       "    <tr>\n",
       "      <th>5</th>\n",
       "      <td>6</td>\n",
       "      <td>6665.0</td>\n",
       "      <td>5142.0</td>\n",
       "      <td>9972.0</td>\n",
       "      <td>1442.0</td>\n",
       "      <td>1733.0</td>\n",
       "      <td>Open</td>\n",
       "      <td>CAT B</td>\n",
       "      <td>760</td>\n",
       "      <td>45260</td>\n",
       "    </tr>\n",
       "    <tr>\n",
       "      <th>6</th>\n",
       "      <td>7</td>\n",
       "      <td>13153.0</td>\n",
       "      <td>11869.0</td>\n",
       "      <td>17811.0</td>\n",
       "      <td>1542.0</td>\n",
       "      <td>1858.0</td>\n",
       "      <td>No Parking</td>\n",
       "      <td>CAT A</td>\n",
       "      <td>1030</td>\n",
       "      <td>72240</td>\n",
       "    </tr>\n",
       "    <tr>\n",
       "      <th>7</th>\n",
       "      <td>8</td>\n",
       "      <td>5882.0</td>\n",
       "      <td>9948.0</td>\n",
       "      <td>13315.0</td>\n",
       "      <td>1261.0</td>\n",
       "      <td>1507.0</td>\n",
       "      <td>Open</td>\n",
       "      <td>CAT C</td>\n",
       "      <td>1020</td>\n",
       "      <td>37720</td>\n",
       "    </tr>\n",
       "    <tr>\n",
       "      <th>8</th>\n",
       "      <td>9</td>\n",
       "      <td>7495.0</td>\n",
       "      <td>11589.0</td>\n",
       "      <td>13370.0</td>\n",
       "      <td>1090.0</td>\n",
       "      <td>1321.0</td>\n",
       "      <td>Not Provided</td>\n",
       "      <td>CAT B</td>\n",
       "      <td>680</td>\n",
       "      <td>46310</td>\n",
       "    </tr>\n",
       "    <tr>\n",
       "      <th>9</th>\n",
       "      <td>10</td>\n",
       "      <td>8233.0</td>\n",
       "      <td>7067.0</td>\n",
       "      <td>11400.0</td>\n",
       "      <td>1030.0</td>\n",
       "      <td>1235.0</td>\n",
       "      <td>Open</td>\n",
       "      <td>CAT C</td>\n",
       "      <td>1130</td>\n",
       "      <td>44150</td>\n",
       "    </tr>\n",
       "  </tbody>\n",
       "</table>\n",
       "</div>"
      ],
      "text/plain": [
       "   Observation  Dist_Taxi  Dist_Market  Dist_Metro  Store_Area  \\\n",
       "0            1     9796.0       5250.0     10703.0      1659.0   \n",
       "1            2     8294.0       8186.0     12694.0      1461.0   \n",
       "2            3    11001.0      14399.0     16991.0      1340.0   \n",
       "3            4     8301.0      11188.0     12289.0      1451.0   \n",
       "4            5    10510.0      12629.0     13921.0      1770.0   \n",
       "5            6     6665.0       5142.0      9972.0      1442.0   \n",
       "6            7    13153.0      11869.0     17811.0      1542.0   \n",
       "7            8     5882.0       9948.0     13315.0      1261.0   \n",
       "8            9     7495.0      11589.0     13370.0      1090.0   \n",
       "9           10     8233.0       7067.0     11400.0      1030.0   \n",
       "\n",
       "   Items_Available       Parking Coupon_Category  Daily_Customer_Count  \\\n",
       "0           1961.0          Open           CAT B                   530   \n",
       "1           1752.0  Not Provided           CAT B                   210   \n",
       "2           1609.0  Not Provided           CAT A                   720   \n",
       "3           1748.0       Covered           CAT B                   620   \n",
       "4           2111.0  Not Provided           CAT B                   450   \n",
       "5           1733.0          Open           CAT B                   760   \n",
       "6           1858.0    No Parking           CAT A                  1030   \n",
       "7           1507.0          Open           CAT C                  1020   \n",
       "8           1321.0  Not Provided           CAT B                   680   \n",
       "9           1235.0          Open           CAT C                  1130   \n",
       "\n",
       "   Store_Sales  \n",
       "0        66490  \n",
       "1        39820  \n",
       "2        54010  \n",
       "3        53730  \n",
       "4        46620  \n",
       "5        45260  \n",
       "6        72240  \n",
       "7        37720  \n",
       "8        46310  \n",
       "9        44150  "
      ]
     },
     "execution_count": 64,
     "metadata": {},
     "output_type": "execute_result"
    }
   ],
   "source": [
    "df.head(10)"
   ]
  },
  {
   "cell_type": "markdown",
   "metadata": {
    "id": "y6SgxqGL3AHi"
   },
   "source": [
    "###  Display the last 5 entries of the dataset.(Hint- use function tail())"
   ]
  },
  {
   "cell_type": "code",
   "execution_count": 63,
   "metadata": {
    "ExecuteTime": {
     "end_time": "2020-11-18T14:36:34.001258Z",
     "start_time": "2020-11-18T14:36:33.973807Z"
    },
    "id": "2YTxwPHF3AHi"
   },
   "outputs": [
    {
     "data": {
      "text/html": [
       "<div>\n",
       "<style scoped>\n",
       "    .dataframe tbody tr th:only-of-type {\n",
       "        vertical-align: middle;\n",
       "    }\n",
       "\n",
       "    .dataframe tbody tr th {\n",
       "        vertical-align: top;\n",
       "    }\n",
       "\n",
       "    .dataframe thead th {\n",
       "        text-align: right;\n",
       "    }\n",
       "</style>\n",
       "<table border=\"1\" class=\"dataframe\">\n",
       "  <thead>\n",
       "    <tr style=\"text-align: right;\">\n",
       "      <th></th>\n",
       "      <th>Observation</th>\n",
       "      <th>Dist_Taxi</th>\n",
       "      <th>Dist_Market</th>\n",
       "      <th>Dist_Metro</th>\n",
       "      <th>Store_Area</th>\n",
       "      <th>Items_Available</th>\n",
       "      <th>Parking</th>\n",
       "      <th>Coupon_Category</th>\n",
       "      <th>Daily_Customer_Count</th>\n",
       "      <th>Store_Sales</th>\n",
       "    </tr>\n",
       "  </thead>\n",
       "  <tbody>\n",
       "    <tr>\n",
       "      <th>927</th>\n",
       "      <td>928</td>\n",
       "      <td>12176.0</td>\n",
       "      <td>8518.0</td>\n",
       "      <td>15673.0</td>\n",
       "      <td>1582.0</td>\n",
       "      <td>1910.0</td>\n",
       "      <td>Covered</td>\n",
       "      <td>CAT C</td>\n",
       "      <td>1080</td>\n",
       "      <td>66390</td>\n",
       "    </tr>\n",
       "    <tr>\n",
       "      <th>928</th>\n",
       "      <td>929</td>\n",
       "      <td>7214.0</td>\n",
       "      <td>8717.0</td>\n",
       "      <td>10553.0</td>\n",
       "      <td>1387.0</td>\n",
       "      <td>1663.0</td>\n",
       "      <td>Open</td>\n",
       "      <td>CAT A</td>\n",
       "      <td>850</td>\n",
       "      <td>82080</td>\n",
       "    </tr>\n",
       "    <tr>\n",
       "      <th>929</th>\n",
       "      <td>930</td>\n",
       "      <td>7423.0</td>\n",
       "      <td>11708.0</td>\n",
       "      <td>13220.0</td>\n",
       "      <td>1200.0</td>\n",
       "      <td>1436.0</td>\n",
       "      <td>Open</td>\n",
       "      <td>CAT A</td>\n",
       "      <td>1060</td>\n",
       "      <td>76440</td>\n",
       "    </tr>\n",
       "    <tr>\n",
       "      <th>930</th>\n",
       "      <td>931</td>\n",
       "      <td>15082.0</td>\n",
       "      <td>14700.0</td>\n",
       "      <td>19617.0</td>\n",
       "      <td>1299.0</td>\n",
       "      <td>1560.0</td>\n",
       "      <td>Open</td>\n",
       "      <td>CAT B</td>\n",
       "      <td>770</td>\n",
       "      <td>96610</td>\n",
       "    </tr>\n",
       "    <tr>\n",
       "      <th>931</th>\n",
       "      <td>932</td>\n",
       "      <td>9297.0</td>\n",
       "      <td>12537.0</td>\n",
       "      <td>14418.0</td>\n",
       "      <td>1174.0</td>\n",
       "      <td>1429.0</td>\n",
       "      <td>Covered</td>\n",
       "      <td>CAT C</td>\n",
       "      <td>1110</td>\n",
       "      <td>54340</td>\n",
       "    </tr>\n",
       "  </tbody>\n",
       "</table>\n",
       "</div>"
      ],
      "text/plain": [
       "     Observation  Dist_Taxi  Dist_Market  Dist_Metro  Store_Area  \\\n",
       "927          928    12176.0       8518.0     15673.0      1582.0   \n",
       "928          929     7214.0       8717.0     10553.0      1387.0   \n",
       "929          930     7423.0      11708.0     13220.0      1200.0   \n",
       "930          931    15082.0      14700.0     19617.0      1299.0   \n",
       "931          932     9297.0      12537.0     14418.0      1174.0   \n",
       "\n",
       "     Items_Available  Parking Coupon_Category  Daily_Customer_Count  \\\n",
       "927           1910.0  Covered           CAT C                  1080   \n",
       "928           1663.0     Open           CAT A                   850   \n",
       "929           1436.0     Open           CAT A                  1060   \n",
       "930           1560.0     Open           CAT B                   770   \n",
       "931           1429.0  Covered           CAT C                  1110   \n",
       "\n",
       "     Store_Sales  \n",
       "927        66390  \n",
       "928        82080  \n",
       "929        76440  \n",
       "930        96610  \n",
       "931        54340  "
      ]
     },
     "execution_count": 63,
     "metadata": {},
     "output_type": "execute_result"
    }
   ],
   "source": [
    "df.tail()"
   ]
  },
  {
   "cell_type": "markdown",
   "metadata": {
    "id": "446-b4oM3AHi"
   },
   "source": [
    "### How many rows and columns are present in the dataset? (Hint- Use function shape)"
   ]
  },
  {
   "cell_type": "code",
   "execution_count": 62,
   "metadata": {
    "ExecuteTime": {
     "end_time": "2020-11-18T14:36:36.645156Z",
     "start_time": "2020-11-18T14:36:36.630788Z"
    },
    "id": "9Q9PLF1M3AHi"
   },
   "outputs": [
    {
     "data": {
      "text/plain": [
       "(932, 10)"
      ]
     },
     "execution_count": 62,
     "metadata": {},
     "output_type": "execute_result"
    }
   ],
   "source": [
    "df.shape"
   ]
  },
  {
   "cell_type": "markdown",
   "metadata": {
    "id": "7g104FC63AHi"
   },
   "source": [
    "###  What are the different data types of the variables in the given dataset? (Hint- Use function info())"
   ]
  },
  {
   "cell_type": "code",
   "execution_count": 61,
   "metadata": {
    "ExecuteTime": {
     "end_time": "2020-11-18T14:36:42.359869Z",
     "start_time": "2020-11-18T14:36:42.336713Z"
    },
    "id": "G7Gou6lh3AHi"
   },
   "outputs": [
    {
     "name": "stdout",
     "output_type": "stream",
     "text": [
      "<class 'pandas.core.frame.DataFrame'>\n",
      "RangeIndex: 932 entries, 0 to 931\n",
      "Data columns (total 10 columns):\n",
      " #   Column                Non-Null Count  Dtype  \n",
      "---  ------                --------------  -----  \n",
      " 0   Observation           932 non-null    int64  \n",
      " 1   Dist_Taxi             919 non-null    float64\n",
      " 2   Dist_Market           919 non-null    float64\n",
      " 3   Dist_Metro            931 non-null    float64\n",
      " 4   Store_Area            924 non-null    float64\n",
      " 5   Items_Available       917 non-null    float64\n",
      " 6   Parking               932 non-null    object \n",
      " 7   Coupon_Category       932 non-null    object \n",
      " 8   Daily_Customer_Count  932 non-null    int64  \n",
      " 9   Store_Sales           932 non-null    int64  \n",
      "dtypes: float64(5), int64(3), object(2)\n",
      "memory usage: 72.9+ KB\n"
     ]
    },
    {
     "data": {
      "text/plain": [
       "Observation               int64\n",
       "Dist_Taxi               float64\n",
       "Dist_Market             float64\n",
       "Dist_Metro              float64\n",
       "Store_Area              float64\n",
       "Items_Available         float64\n",
       "Parking                  object\n",
       "Coupon_Category          object\n",
       "Daily_Customer_Count      int64\n",
       "Store_Sales               int64\n",
       "dtype: object"
      ]
     },
     "execution_count": 61,
     "metadata": {},
     "output_type": "execute_result"
    }
   ],
   "source": [
    "df.info()\n",
    "df.dtypes"
   ]
  },
  {
   "cell_type": "markdown",
   "metadata": {
    "id": "t1pI-o3y3AHi"
   },
   "source": [
    "**Or you can use below command as well**"
   ]
  },
  {
   "cell_type": "code",
   "execution_count": null,
   "metadata": {
    "ExecuteTime": {
     "end_time": "2020-11-18T14:37:28.472053Z",
     "start_time": "2020-11-18T14:37:28.456911Z"
    },
    "id": "z0Exle6g3AHi"
   },
   "outputs": [],
   "source": []
  },
  {
   "cell_type": "markdown",
   "metadata": {
    "id": "6-V0qkk23AHi"
   },
   "source": [
    "# END"
   ]
  }
 ],
 "metadata": {
  "colab": {
   "collapsed_sections": [
    "eQCb3G2W3AHg",
    "J5I0tHl13AHg",
    "N7If4Qm13AHg",
    "ySZR5Kr23AHg",
    "2odOFhTE3AHh",
    "2HdntLZf3AHh"
   ],
   "name": "Questions_Store Sale.ipynb",
   "provenance": []
  },
  "kernelspec": {
   "display_name": "Python 3 (ipykernel)",
   "language": "python",
   "name": "python3"
  },
  "language_info": {
   "codemirror_mode": {
    "name": "ipython",
    "version": 3
   },
   "file_extension": ".py",
   "mimetype": "text/x-python",
   "name": "python",
   "nbconvert_exporter": "python",
   "pygments_lexer": "ipython3",
   "version": "3.8.12"
  },
  "toc": {
   "base_numbering": 1,
   "nav_menu": {},
   "number_sections": true,
   "sideBar": true,
   "skip_h1_title": false,
   "title_cell": "Table of Contents",
   "title_sidebar": "Contents",
   "toc_cell": false,
   "toc_position": {},
   "toc_section_display": true,
   "toc_window_display": false
  },
  "varInspector": {
   "cols": {
    "lenName": 16,
    "lenType": 16,
    "lenVar": 40
   },
   "kernels_config": {
    "python": {
     "delete_cmd_postfix": "",
     "delete_cmd_prefix": "del ",
     "library": "var_list.py",
     "varRefreshCmd": "print(var_dic_list())"
    },
    "r": {
     "delete_cmd_postfix": ") ",
     "delete_cmd_prefix": "rm(",
     "library": "var_list.r",
     "varRefreshCmd": "cat(var_dic_list()) "
    }
   },
   "types_to_exclude": [
    "module",
    "function",
    "builtin_function_or_method",
    "instance",
    "_Feature"
   ],
   "window_display": false
  }
 },
 "nbformat": 4,
 "nbformat_minor": 1
}
